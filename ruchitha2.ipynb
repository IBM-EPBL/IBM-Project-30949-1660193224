{
  "nbformat": 4,
  "nbformat_minor": 0,
  "metadata": {
    "colab": {
      "provenance": [],
      "collapsed_sections": [],
      "authorship_tag": "ABX9TyMzHUnVFDDwsCY9uu2bztWY",
      "include_colab_link": true
    },
    "kernelspec": {
      "name": "python3",
      "display_name": "Python 3"
    },
    "language_info": {
      "name": "python"
    }
  },
  "cells": [
    {
      "cell_type": "markdown",
      "metadata": {
        "id": "view-in-github",
        "colab_type": "text"
      },
      "source": [
        "<a href=\"https://colab.research.google.com/github/IBM-EPBL/IBM-Project-30949-1660193224/blob/main/ruchitha2.ipynb\" target=\"_parent\"><img src=\"https://colab.research.google.com/assets/colab-badge.svg\" alt=\"Open In Colab\"/></a>"
      ]
    },
    {
      "cell_type": "code",
      "execution_count": null,
      "metadata": {
        "id": "oP-Ou1UP_nRs"
      },
      "outputs": [],
      "source": [
        "# Python Program to Print Odd Numbers from 1 to N\n",
        "\n",
        "maximum = int(input(\" Please Enter any Maximum Value : \"))\n",
        "\n",
        "for number in range(1, maximum + 1):\n",
        "    if(number % 2 != 0):\n",
        "        print(\"{0}\".format(number))\n"
      ]
    },
    {
      "cell_type": "code",
      "source": [
        "# Program to check if a number is prime or not\n",
        "\n",
        "num = 29\n",
        "\n",
        "# To take input from the user\n",
        "#num = int(input(\"Enter a number: \"))\n",
        "\n",
        "# define a flag variable\n",
        "flag = False\n",
        "\n",
        "# prime numbers are greater than 1\n",
        "if num > 1:\n",
        "    # check for factors\n",
        "    for i in range(2, num):\n",
        "        if (num % i) == 0:\n",
        "            # if factor is found, set flag to True\n",
        "            flag = True\n",
        "            # break out of loop\n",
        "            break\n",
        "\n",
        "# check if flag is True\n",
        "if flag:\n",
        "    print(num, \"is not a prime number\")\n",
        "else:\n",
        "    print(num, \"is a prime number\")\n"
      ],
      "metadata": {
        "id": "gmNmauRLArXc"
      },
      "execution_count": null,
      "outputs": []
    },
    {
      "cell_type": "code",
      "source": [
        "# Program to check if a number is prime or not\n",
        "\n",
        "num = 29\n",
        "\n",
        "# To take input from the user\n",
        "#num = int(input(\"Enter a number: \"))\n",
        "\n",
        "# define a flag variable\n",
        "flag = False\n",
        "\n",
        "# prime numbers are greater than 1\n",
        "if num > 1:\n",
        "    # check for factors\n",
        "    for i in range(2, num):\n",
        "        if (num % i) == 0:\n",
        "            # if factor is found, set flag to True\n",
        "            flag = True\n",
        "            # break out of loop\n",
        "            break\n",
        "\n",
        "# check if flag is True\n",
        "if flag:\n",
        "    print(num, \"is not a prime number\")\n",
        "else:\n",
        "    print(num, \"is a prime number\")\n"
      ],
      "metadata": {
        "id": "Qk6erAAHAMkP"
      },
      "execution_count": null,
      "outputs": []
    }
  ]
}