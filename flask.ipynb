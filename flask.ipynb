{
  "nbformat": 4,
  "nbformat_minor": 0,
  "metadata": {
    "colab": {
      "provenance": [],
      "authorship_tag": "ABX9TyPVpNSwz31O/VmyLoxfq5se",
      "include_colab_link": true
    },
    "kernelspec": {
      "name": "python3",
      "display_name": "Python 3"
    },
    "language_info": {
      "name": "python"
    }
  },
  "cells": [
    {
      "cell_type": "markdown",
      "metadata": {
        "id": "view-in-github",
        "colab_type": "text"
      },
      "source": [
        "<a href=\"https://colab.research.google.com/github/IBM-EPBL/IBM-Project-30949-1660193224/blob/assignment/flask.ipynb\" target=\"_parent\"><img src=\"https://colab.research.google.com/assets/colab-badge.svg\" alt=\"Open In Colab\"/></a>"
      ]
    },
    {
      "cell_type": "code",
      "execution_count": 1,
      "metadata": {
        "colab": {
          "base_uri": "https://localhost:8080/",
          "height": 373
        },
        "id": "szZaTbfmXWo5",
        "outputId": "f7a6d336-1e93-4c27-d265-b648c443b6a0"
      },
      "outputs": [
        {
          "output_type": "error",
          "ename": "ModuleNotFoundError",
          "evalue": "ignored",
          "traceback": [
            "\u001b[0;31m---------------------------------------------------------------------------\u001b[0m",
            "\u001b[0;31mModuleNotFoundError\u001b[0m                       Traceback (most recent call last)",
            "\u001b[0;32m<ipython-input-1-8c692dc3742f>\u001b[0m in \u001b[0;36m<module>\u001b[0;34m\u001b[0m\n\u001b[1;32m     10\u001b[0m \u001b[0;34m\u001b[0m\u001b[0m\n\u001b[1;32m     11\u001b[0m \u001b[0;34m\u001b[0m\u001b[0m\n\u001b[0;32m---> 12\u001b[0;31m \u001b[0;32mfrom\u001b[0m \u001b[0mflask_wtf\u001b[0m \u001b[0;32mimport\u001b[0m \u001b[0mFlaskForm\u001b[0m\u001b[0;34m\u001b[0m\u001b[0;34m\u001b[0m\u001b[0m\n\u001b[0m\u001b[1;32m     13\u001b[0m \u001b[0;32mfrom\u001b[0m \u001b[0mwtforms\u001b[0m \u001b[0;32mimport\u001b[0m \u001b[0mSubmitField\u001b[0m\u001b[0;34m,\u001b[0m \u001b[0mHiddenField\u001b[0m\u001b[0;34m,\u001b[0m \u001b[0mStringField\u001b[0m\u001b[0;34m,\u001b[0m \u001b[0mIntegerField\u001b[0m\u001b[0;34m,\u001b[0m \u001b[0mDecimalField\u001b[0m\u001b[0;34m\u001b[0m\u001b[0;34m\u001b[0m\u001b[0m\n\u001b[1;32m     14\u001b[0m \u001b[0;32mfrom\u001b[0m \u001b[0mwtforms\u001b[0m\u001b[0;34m.\u001b[0m\u001b[0mvalidators\u001b[0m \u001b[0;32mimport\u001b[0m \u001b[0mEmail\u001b[0m\u001b[0;34m\u001b[0m\u001b[0;34m\u001b[0m\u001b[0m\n",
            "\u001b[0;31mModuleNotFoundError\u001b[0m: No module named 'flask_wtf'",
            "",
            "\u001b[0;31m---------------------------------------------------------------------------\u001b[0;32m\nNOTE: If your import is failing due to a missing package, you can\nmanually install dependencies using either !pip or !apt.\n\nTo view examples of installing some common dependencies, click the\n\"Open Examples\" button below.\n\u001b[0;31m---------------------------------------------------------------------------\u001b[0m\n"
          ],
          "errorDetails": {
            "actions": [
              {
                "action": "open_url",
                "actionText": "Open Examples",
                "url": "/notebooks/snippets/importing_libraries.ipynb"
              }
            ]
          }
        }
      ],
      "source": [
        "from flask import Flask, escape, request\n",
        "\n",
        "app = Flask(__name__)\n",
        "\n",
        "app.config['SECRET_KEY'] = 'any secret key'\n",
        "\n",
        "@app.route('/')\n",
        "def hello():\n",
        "    return \"Hello World!\"\n",
        "\n",
        "\n",
        "from flask_wtf import FlaskForm\n",
        "from wtforms import SubmitField, HiddenField, StringField, IntegerField, DecimalField\n",
        "from wtforms.validators import Email\n",
        "\n",
        "class EmployeeForm(FlaskForm):\n",
        "    id = HiddenField()\n",
        "    name = StringField('Name')\n",
        "    email = StringField('Email', validators=[Email()])\n",
        "    salary = DecimalField('Salary')\n",
        "    submit = SubmitField(\"Save\")\n",
        "\n",
        "\n",
        "from flask_sqlalchemy import SQLAlchemy\n",
        "app.config[\"SQLALCHEMY_DATABASE_URI\"] = \"sqlite:////tmp/employee.db\"\n",
        "db = SQLAlchemy(app)\n",
        "\n",
        "class Employee(db.Model):\n",
        "    id = db.Column(db.Integer, primary_key=True)\n",
        "    name = db.Column(db.String)\n",
        "    email = db.Column(db.String)\n",
        "    salary = db.Column(db.Numeric)\n",
        "    references = db.Column(db.String)\n",
        "\n",
        "    def __repr__(self):\n",
        "        return \"(%r, %r, %r)\" %(self.name,self.email,self.salary)\n",
        "\n",
        "\n",
        "from flask import render_template, request, flash, redirect, url_for\n",
        "\n",
        "@app.route(\"/employee\", methods=[\"GET\", \"POST\"])\n",
        "def createEmployee():\n",
        "    form = EmployeeForm(request.form)\n",
        "    employees = Employee.query.all()\n",
        "    if form.validate_on_submit():\n",
        "        employee = Employee(name=form.name.data, email=form.email.data, salary=form.salary.data)\n",
        "        db.session.add(employee)\n",
        "        db.session.commit()\n",
        "        db.session.refresh(employee)\n",
        "        db.session.commit()\n",
        "        flash(\"Added Employee Successfully\")\n",
        "        return redirect(url_for(\"createEmployee\"))\n",
        "    return render_template(\"employee.html\", title=\"Employee\", form=form, employees=employees)\n",
        "\n",
        "@app.route(\"/updateEmployee/<int:employee_id>\", methods=[\"GET\", \"POST\"])\n",
        "def updateEmployee(employee_id):\n",
        "    employee = Employee.query.get(employee_id)\n",
        "    form = EmployeeForm(request.form, obj=employee)\n",
        "    if form.validate_on_submit():\n",
        "        form.populate_obj(employee)\n",
        "        db.session.commit()\n",
        "        flash(\"Updated Employee Successfully\")\n",
        "        return redirect(url_for(\"createEmployee\"))\n",
        "    return render_template(\"employee.html\", title=\"Employee\", form=form, employees=Employee.query.all())\n",
        "\n",
        "@app.route(\"/deleteEmployee/<int:employee_id>\", methods=[\"GET\", \"POST\"])\n",
        "def deleteEmployee(employee_id):\n",
        "    employee = Employee.query.get(employee_id)\n",
        "    db.session.delete(employee)\n",
        "    db.session.commit()\n",
        "    return redirect(url_for(\"createEmployee\"))"
      ]
    }
  ]
}