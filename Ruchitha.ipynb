{
  "cells": [
    {
      "cell_type": "code",
      "source": [
        "# Python program to display all the prime numbers within an interval\n",
        "\n",
        "lower = 900\n",
        "upper = 1000\n",
        "\n",
        "print(\"Prime numbers between\", lower, \"and\", upper, \"are:\")\n",
        "\n",
        "for num in range(lower, upper + 1):\n",
        "   # all prime numbers are greater than 1\n",
        "   if num > 1:\n",
        "       for i in range(2, num):\n",
        "           if (num % i) == 0:\n",
        "               break\n",
        "       else:\n",
        "           print(num)\n"
      ],
      "metadata": {
        "id": "dosuXVpGUF5k",
        "outputId": "97ed6774-d4da-4185-a23b-740562a7f09a",
        "colab": {
          "base_uri": "https://localhost:8080/"
        }
      },
      "execution_count": 6,
      "outputs": [
        {
          "output_type": "stream",
          "name": "stdout",
          "text": [
            "Prime numbers between 900 and 1000 are:\n",
            "907\n",
            "911\n",
            "919\n",
            "929\n",
            "937\n",
            "941\n",
            "947\n",
            "953\n",
            "967\n",
            "971\n",
            "977\n",
            "983\n",
            "991\n",
            "997\n"
          ]
        }
      ]
    },
    {
      "cell_type": "code",
      "source": [
        "# Python program to print odd Numbers in a List\n",
        " \n",
        "# list of numbers\n",
        "\n",
        "list1 = [10, 21, 4, 45, 66, 93]\n",
        " \n",
        "# iterating each number in list\n",
        "\n",
        "for num in list1:\n",
        "\n",
        "     \n",
        "\n",
        "    # checking condition\n",
        "\n",
        "    if num % 2 != 0:\n",
        "\n",
        "       print(num, end = \" \")\n",
        " "
      ],
      "metadata": {
        "id": "Qvz6ICZrUlnQ",
        "outputId": "e6a27ee5-b269-48b1-e664-a98ff6dbb919",
        "colab": {
          "base_uri": "https://localhost:8080/"
        }
      },
      "execution_count": 7,
      "outputs": [
        {
          "output_type": "stream",
          "name": "stdout",
          "text": [
            "21 45 93 "
          ]
        }
      ]
    }
  ],
  "metadata": {
    "colab": {
      "collapsed_sections": [],
      "name": "Welcome To Colaboratory",
      "toc_visible": true,
      "provenance": []
    },
    "kernelspec": {
      "display_name": "Python 3",
      "name": "python3"
    }
  },
  "nbformat": 4,
  "nbformat_minor": 0
}