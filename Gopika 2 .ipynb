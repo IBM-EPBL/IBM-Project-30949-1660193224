{
  "cells": [
    {
      "cell_type": "code",
      "source": [
        "# Python program to print odd Numbers in a List\n",
        " \n",
        "# list of numbers\n",
        "\n",
        "list1 = [10, 21, 4, 45, 66, 93]\n",
        " \n",
        "# iterating each number in list\n",
        "\n",
        "for num in list1:\n",
        "\n",
        "     \n",
        "\n",
        "    # checking condition\n",
        "\n",
        "    if num % 2 != 0:\n",
        "\n",
        "       print(num, end = \" \")\n",
        " "
      ],
      "metadata": {
        "id": "wW9gk4lsX-pK",
        "outputId": "a3349fec-3780-475a-bade-dbea0b8f81b9",
        "colab": {
          "base_uri": "https://localhost:8080/"
        }
      },
      "execution_count": 5,
      "outputs": [
        {
          "output_type": "stream",
          "name": "stdout",
          "text": [
            "21 45 93 "
          ]
        }
      ]
    }
  ],
  "metadata": {
    "colab": {
      "collapsed_sections": [],
      "name": "Welcome To Colaboratory",
      "toc_visible": true,
      "provenance": []
    },
    "kernelspec": {
      "display_name": "Python 3",
      "name": "python3"
    }
  },
  "nbformat": 4,
  "nbformat_minor": 0
}